{
 "cells": [
  {
   "cell_type": "code",
   "execution_count": null,
   "id": "67ea9af3",
   "metadata": {},
   "outputs": [],
   "source": [
    "import importlib\n",
    "import sys\n",
    "from pathlib import Path\n",
    "import importlib\n",
    "project_root = Path.cwd().parent\n",
    "sys.path.append(str(project_root))"
   ]
  },
  {
   "cell_type": "code",
   "execution_count": 7,
   "id": "b5e2e0b4",
   "metadata": {},
   "outputs": [
    {
     "name": "stdout",
     "output_type": "stream",
     "text": [
      "⬇️ Downloading dataset 'neisse/scrapped-lyrics-from-6-genres' to '/Users/isachansson/studies/chalmers/y5/DML-project/notebooks/../data/data' ...\n",
      "Dataset URL: https://www.kaggle.com/datasets/neisse/scrapped-lyrics-from-6-genres\n",
      "✅ Download complete!\n"
     ]
    }
   ],
   "source": [
    "from src import load_data\n",
    "importlib.reload(load_data)\n",
    "from src.load_data import download_dataset\n",
    "\n",
    "dataset_slug = 'neisse/scrapped-lyrics-from-6-genres'\n",
    "data_path = download_dataset(dataset_slug)"
   ]
  }
 ],
 "metadata": {
  "kernelspec": {
   "display_name": "dml-project (3.10.19)",
   "language": "python",
   "name": "python3"
  },
  "language_info": {
   "codemirror_mode": {
    "name": "ipython",
    "version": 3
   },
   "file_extension": ".py",
   "mimetype": "text/x-python",
   "name": "python",
   "nbconvert_exporter": "python",
   "pygments_lexer": "ipython3",
   "version": "3.10.19"
  }
 },
 "nbformat": 4,
 "nbformat_minor": 5
}
