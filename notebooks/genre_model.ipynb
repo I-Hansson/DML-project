{
 "cells": [
  {
   "cell_type": "markdown",
   "id": "f91c8a46",
   "metadata": {},
   "source": [
    "## First model"
   ]
  },
  {
   "cell_type": "code",
   "execution_count": 1,
   "id": "44d06b7c",
   "metadata": {},
   "outputs": [],
   "source": [
    "import pandas as pd\n",
    "\n",
    "from torch.utils.data import Dataset\n",
    "from transformers import GPT2Tokenizer\n",
    "\n",
    "from transformers import GPT2LMHeadModel\n",
    "from transformers import get_linear_schedule_with_warmup\n",
    "\n",
    "from torch.optim import AdamW\n",
    "\n",
    "from transformers import get_linear_schedule_with_warmup\n",
    "from torch.utils.data import Dataset, DataLoader\n",
    "import torch\n",
    "from tqdm.notebook import tqdm\n",
    "\n",
    "from sklearn.model_selection import train_test_split\n",
    "import os\n",
    "from pathlib import Path"
   ]
  },
  {
   "cell_type": "markdown",
   "id": "0ab60217",
   "metadata": {},
   "source": [
    "Load our data"
   ]
  },
  {
   "cell_type": "code",
   "execution_count": 32,
   "id": "630791ea",
   "metadata": {},
   "outputs": [
    {
     "name": "stdout",
     "output_type": "stream",
     "text": [
      "Loaded 39,415 songs\n",
      "\n",
      "Columns: ['genre', 'lyrics', 'token_count', 'formatted_text']\n",
      "\n",
      "First row preview:\n",
      "genre                                                           Pop\n",
      "lyrics            I feel so unsure\\nAs I take your hand and lead...\n",
      "token_count                                                     400\n",
      "formatted_text    Genre: Pop\\n\\nI feel so unsure\\nAs I take your...\n",
      "Name: 0, dtype: object\n"
     ]
    }
   ],
   "source": [
    "data_path = Path(os.getcwd()).parent / 'data'\n",
    "\n",
    "df = pd.read_csv(f'{data_path}/lyrics_filtered_768tokens.csv')\n",
    "\n",
    "\n",
    "print(f\"Loaded {len(df):,} songs\")\n",
    "print(f\"\\nColumns: {df.columns.tolist()}\")\n",
    "print(f\"\\nFirst row preview:\")\n",
    "print(df.iloc[0])"
   ]
  },
  {
   "cell_type": "code",
   "execution_count": 33,
   "id": "86a99295",
   "metadata": {},
   "outputs": [
    {
     "name": "stdout",
     "output_type": "stream",
     "text": [
      "cuda\n"
     ]
    }
   ],
   "source": [
    "device = \"cuda\" if torch.cuda.is_available() else \"cpu\"\n",
    "# ['gpt2', 'gpt2-medium', 'gpt2-large', 'gpt2-xl']\n",
    "print(device)\n",
    "model_name = 'distilgpt2'\n",
    "model_save_path = Path(os.getcwd()).parent / 'models'"
   ]
  },
  {
   "cell_type": "code",
   "execution_count": 34,
   "id": "0b008190",
   "metadata": {},
   "outputs": [
    {
     "name": "stdout",
     "output_type": "stream",
     "text": [
      "\n",
      "Tokenizer loaded:\n",
      "Vocab size: 50,257\n",
      "EOS token: '<|endoftext|>' (ID: 50256)\n",
      "PAD token: '<|endoftext|>' (ID: 50256)\n"
     ]
    }
   ],
   "source": [
    "tokenizer = GPT2Tokenizer.from_pretrained(model_name)\n",
    "tokenizer.pad_token = tokenizer.eos_token\n",
    "\n",
    "print(f\"\\nTokenizer loaded:\")\n",
    "print(f\"Vocab size: {len(tokenizer):,}\")\n",
    "print(f\"EOS token: '{tokenizer.eos_token}' (ID: {tokenizer.eos_token_id})\")\n",
    "print(f\"PAD token: '{tokenizer.pad_token}' (ID: {tokenizer.pad_token_id})\")"
   ]
  },
  {
   "cell_type": "markdown",
   "id": "24efc387",
   "metadata": {},
   "source": [
    "### Custom dataset"
   ]
  },
  {
   "cell_type": "code",
   "execution_count": 35,
   "id": "247db494",
   "metadata": {},
   "outputs": [],
   "source": [
    "class LyricsDataset(Dataset):\n",
    "    \n",
    "    def __init__(self, formatted_texts, tokenizer, max_length=768):\n",
    "\n",
    "        self.input_ids = []\n",
    "        self.attn_masks = []\n",
    "        \n",
    "        print(f\"Pre-tokenizing {len(formatted_texts)} songs...\")\n",
    "        for text in tqdm(formatted_texts):\n",
    "            encodings = tokenizer.encode_plus(\n",
    "                text,\n",
    "                truncation=True,\n",
    "                padding='max_length',\n",
    "                max_length=max_length,\n",
    "                return_tensors='pt'\n",
    "            )\n",
    "            self.input_ids.append(encodings['input_ids'].squeeze(0))\n",
    "            self.attn_masks.append(encodings['attention_mask'].squeeze(0))\n",
    "        \n",
    "        print(\"Tokenization complete\")\n",
    "    \n",
    "    def __len__(self):\n",
    "        return len(self.input_ids)\n",
    "    \n",
    "    def __getitem__(self, idx):\n",
    "        return {\n",
    "            'input_ids': self.input_ids[idx],\n",
    "            'attention_mask': self.attn_masks[idx],\n",
    "            'labels': self.input_ids[idx]\n",
    "        }\n"
   ]
  },
  {
   "cell_type": "markdown",
   "id": "ceffa748",
   "metadata": {},
   "source": [
    "## Initialise the data"
   ]
  },
  {
   "cell_type": "code",
   "execution_count": 36,
   "id": "1929b936",
   "metadata": {},
   "outputs": [
    {
     "name": "stdout",
     "output_type": "stream",
     "text": [
      "Pre-tokenizing 31532 songs...\n"
     ]
    },
    {
     "data": {
      "application/vnd.jupyter.widget-view+json": {
       "model_id": "1c1d1636d0274cc7a7a5204509e4c46b",
       "version_major": 2,
       "version_minor": 0
      },
      "text/plain": [
       "  0%|          | 0/31532 [00:00<?, ?it/s]"
      ]
     },
     "metadata": {},
     "output_type": "display_data"
    },
    {
     "name": "stdout",
     "output_type": "stream",
     "text": [
      "Tokenization complete\n",
      "Pre-tokenizing 7094 songs...\n"
     ]
    },
    {
     "data": {
      "application/vnd.jupyter.widget-view+json": {
       "model_id": "ff0bebc13c5f44fdac9572b0f3309903",
       "version_major": 2,
       "version_minor": 0
      },
      "text/plain": [
       "  0%|          | 0/7094 [00:00<?, ?it/s]"
      ]
     },
     "metadata": {},
     "output_type": "display_data"
    },
    {
     "name": "stdout",
     "output_type": "stream",
     "text": [
      "Tokenization complete\n",
      "Pre-tokenizing 789 songs...\n"
     ]
    },
    {
     "data": {
      "application/vnd.jupyter.widget-view+json": {
       "model_id": "b1be3f990bad4d5cb15c523e8984647c",
       "version_major": 2,
       "version_minor": 0
      },
      "text/plain": [
       "  0%|          | 0/789 [00:00<?, ?it/s]"
      ]
     },
     "metadata": {},
     "output_type": "display_data"
    },
    {
     "name": "stdout",
     "output_type": "stream",
     "text": [
      "Tokenization complete\n"
     ]
    }
   ],
   "source": [
    "\n",
    "train_df, temp_df = train_test_split(\n",
    "    df, \n",
    "    test_size=0.2, \n",
    "    stratify=df['genre'],\n",
    "    random_state=6\n",
    ")\n",
    "val_df, test_df = train_test_split(\n",
    "    temp_df,\n",
    "    test_size=0.1,\n",
    "    stratify=temp_df['genre'],\n",
    "    random_state=6\n",
    ")\n",
    "\n",
    "train_dataset = LyricsDataset(train_df['formatted_text'].tolist(), tokenizer, 768)\n",
    "val_dataset = LyricsDataset(val_df['formatted_text'].tolist(), tokenizer, 768)\n",
    "test_dataset = LyricsDataset(test_df['formatted_text'].tolist(), tokenizer, 768)"
   ]
  },
  {
   "cell_type": "code",
   "execution_count": 37,
   "id": "80b9e73f",
   "metadata": {},
   "outputs": [
    {
     "name": "stdout",
     "output_type": "stream",
     "text": [
      "Dataset size: 31532\n",
      "Sample shapes:\n",
      "  input_ids: torch.Size([768])\n",
      "  attention_mask: torch.Size([768])\n"
     ]
    }
   ],
   "source": [
    "print(f\"Dataset size: {len(train_dataset)}\")\n",
    "sample = train_dataset[0]\n",
    "print(f\"Sample shapes:\")\n",
    "print(f\"  input_ids: {sample['input_ids'].shape}\")\n",
    "print(f\"  attention_mask: {sample['attention_mask'].shape}\")"
   ]
  },
  {
   "cell_type": "markdown",
   "id": "b39cf8f2",
   "metadata": {},
   "source": [
    "### Train LOOP"
   ]
  },
  {
   "cell_type": "code",
   "execution_count": 38,
   "id": "9af42500",
   "metadata": {},
   "outputs": [],
   "source": [
    "\n",
    "def train_loop(model, optimizer, scheduler, train_loader, device, epoch, num_epochs):\n",
    "    model.train()\n",
    "    epoch_train_loss = 0\n",
    "    batch_losses = []\n",
    "    learning_rates = []\n",
    "    print(f\"Starting training epoch {epoch+1}/{num_epochs} with {len(train_loader)} batches\")\n",
    "    progress_bar = tqdm(train_loader, desc=f\"Epoch {epoch + 1}/{num_epochs} (Training)\")\n",
    "    for batch in progress_bar:\n",
    "            try:\n",
    "                input_ids = batch['input_ids'].to(device)\n",
    "                attention_mask = batch['attention_mask'].to(device)\n",
    "\n",
    "                outputs = model(\n",
    "                    input_ids=input_ids,\n",
    "                    attention_mask=attention_mask,\n",
    "                    labels=input_ids\n",
    "                )\n",
    "                loss = outputs.loss\n",
    "\n",
    "                batch_losses.append(loss)\n",
    "                learning_rates.append(scheduler.get_last_lr()[0])\n",
    "                epoch_train_loss += loss.item()\n",
    "\n",
    "                # Backward pass\n",
    "                optimizer.zero_grad()\n",
    "                loss.backward()\n",
    "                torch.nn.utils.clip_grad_norm_(model.parameters(), max_norm=1.0)\n",
    "                \n",
    "                optimizer.step()\n",
    "                scheduler.step()\n",
    "\n",
    "                progress_bar.set_postfix({'train_loss': loss.item()})\n",
    "                progress_bar.refresh()\n",
    "            \n",
    "            except RuntimeError as e:\n",
    "                print(f\"Error in training batch: {e}\")\n",
    "                raise\n",
    "   \n",
    "    return batch_losses, learning_rates\n",
    "\n",
    "def validation_loop(model, val_loader, device, epoch, num_epochs):\n",
    "        model.eval()\n",
    "        batch_losses = []\n",
    "        progress_bar =  tqdm(val_loader, desc=f\"Epoch {epoch + 1}/{num_epochs} (Validation)\")\n",
    "        with torch.no_grad():\n",
    "            for batch in progress_bar:\n",
    "                try:\n",
    "                    input_ids = batch['input_ids'].to(device)\n",
    "                    attention_mask = batch['attention_mask'].to(device)\n",
    "\n",
    "                    outputs = model(\n",
    "                        input_ids=input_ids,\n",
    "                        attention_mask=attention_mask,\n",
    "                        labels=input_ids\n",
    "                    )\n",
    "                    batch_losses.append(outputs.loss.item())\n",
    "                \n",
    "                except RuntimeError as e:\n",
    "                    print(f\"Error in validation batch: {e}\")\n",
    "                    raise\n",
    "\n",
    "        return batch_losses\n",
    "\n",
    "def train_gpt2_model(\n",
    "    model,\n",
    "    train_loader,\n",
    "    val_loader,\n",
    "    device,\n",
    "    optimizer,\n",
    "    scheduler,\n",
    "    num_epochs=3,\n",
    "    patience=2,\n",
    "    model_name=\"last_training\"\n",
    "    ):\n",
    "    os.makedirs(\"./models\", exist_ok=True)\n",
    "    print('Using:', device)\n",
    "    model = model.to(device)\n",
    "\n",
    "    best_val_loss = float('inf')\n",
    "    patience_counter = 0\n",
    "    history = {\n",
    "        'train_loss_per_epoch': [],\n",
    "        'val_loss_per_epoch': [],\n",
    "        'train_loss_per_batch': [],\n",
    "        'val_loss_per_batch': [],\n",
    "        'learning_rates': [],\n",
    "    }\n",
    "\n",
    "    # Training loop\n",
    "    for epoch in range(num_epochs):\n",
    "        # Train\n",
    "        epoch_train_losses, lrs = train_loop(model, optimizer, scheduler, train_loader, device, epoch, num_epochs)\n",
    "\n",
    "        history['train_loss_per_batch'].extend(epoch_train_losses)\n",
    "        history['learning_rates'].extend(lrs)\n",
    "        avg_train_loss = sum(epoch_train_losses) / len(epoch_train_losses)\n",
    "        print(f\"Epoch {epoch + 1}/{num_epochs} - Avg Training Loss: {avg_train_loss:.4f}\")\n",
    "        history['train_loss_per_epoch'].append(avg_train_loss)\n",
    "\n",
    "        # Val\n",
    "        epoch_val_losses = validation_loop(model, val_loader, device, epoch, num_epochs)\n",
    "        history['val_loss_per_batch'].extend(epoch_val_losses)\n",
    "        avg_val_loss = sum(epoch_val_losses) / len(epoch_val_losses)\n",
    "        history['val_loss_per_epoch'].append(avg_val_loss)\n",
    "        print(f\"Epoch {epoch + 1}/{num_epochs}: Avg Validation Loss: {avg_val_loss:.4f}\")\n",
    "\n",
    "\n",
    "        if avg_val_loss < best_val_loss - 0.01:\n",
    "            best_val_loss = avg_val_loss\n",
    "            patience_counter = 0\n",
    "            torch.save(model.state_dict(), f\"./models/{model_name}.pt\")\n",
    "            print(f'Saved best model checkpoint: epoch {epoch + 1}')\n",
    "        else:\n",
    "            patience_counter += 1\n",
    "            print(f\"Patience counter: {patience_counter}/{patience}\")\n",
    "            if patience_counter >= patience:\n",
    "                print(f\"Early stopping triggered after epoch {epoch + 1}\")\n",
    "                break\n",
    "\n",
    "    print(\"Done!\")            \n",
    "    return model, history\n",
    "    "
   ]
  },
  {
   "cell_type": "markdown",
   "id": "f326ac27",
   "metadata": {},
   "source": [
    "### Test with small dataset"
   ]
  },
  {
   "cell_type": "code",
   "execution_count": 27,
   "id": "49ef85da",
   "metadata": {},
   "outputs": [
    {
     "name": "stdout",
     "output_type": "stream",
     "text": [
      "Genre distribution:\n",
      "genre\n",
      "Heavy Metal    1337\n",
      "Pop            1313\n",
      "Indie          1291\n",
      "Name: count, dtype: int64\n",
      "Pre-tokenizing 3152 songs...\n"
     ]
    },
    {
     "data": {
      "application/vnd.jupyter.widget-view+json": {
       "model_id": "59c1ee8d85a4476db9d4be3c081effd5",
       "version_major": 2,
       "version_minor": 0
      },
      "text/plain": [
       "  0%|          | 0/3152 [00:00<?, ?it/s]"
      ]
     },
     "metadata": {},
     "output_type": "display_data"
    },
    {
     "name": "stdout",
     "output_type": "stream",
     "text": [
      "Tokenization complete\n",
      "Pre-tokenizing 789 songs...\n"
     ]
    },
    {
     "data": {
      "application/vnd.jupyter.widget-view+json": {
       "model_id": "c1a21b8e6a6c497181bdf0fe0ef469a4",
       "version_major": 2,
       "version_minor": 0
      },
      "text/plain": [
       "  0%|          | 0/789 [00:00<?, ?it/s]"
      ]
     },
     "metadata": {},
     "output_type": "display_data"
    },
    {
     "name": "stdout",
     "output_type": "stream",
     "text": [
      "Tokenization complete\n",
      "\n",
      "============================================================\n",
      "TRAINING CONFIGURATION\n",
      "============================================================\n",
      "Model: distilgpt2\n",
      "Device: cuda\n",
      "Batch size: 4\n",
      "Max length: 512\n",
      "Learning rate: 3e-05\n",
      "Epochs: 2\n",
      "Total steps: 1576\n",
      "Warmup steps: 157\n",
      "============================================================\n"
     ]
    }
   ],
   "source": [
    "# get 10 procent of the data\n",
    "small_df, _ = train_test_split(\n",
    "    df,\n",
    "    train_size=0.1,\n",
    "    stratify=df['genre'],\n",
    "    random_state=6\n",
    ")\n",
    "print(f\"Genre distribution:\\n{small_df['genre'].value_counts()}\")\n",
    "BATCH_SIZE = 4\n",
    "MAX_LENGTH = 512\n",
    "\n",
    "small_train_df, small_val_df = train_test_split(\n",
    "    small_df, \n",
    "    test_size=0.2, \n",
    "    stratify=small_df['genre'],\n",
    "    random_state=6\n",
    ")\n",
    "small_train_dataset = LyricsDataset(small_train_df['formatted_text'].tolist(), tokenizer, MAX_LENGTH)\n",
    "small_val_dataset = LyricsDataset(small_val_df['formatted_text'].tolist(), tokenizer, MAX_LENGTH)\n",
    "\n",
    "small_train_loader = DataLoader(\n",
    "    small_train_dataset,\n",
    "    batch_size=BATCH_SIZE,\n",
    "    shuffle=True,\n",
    "    pin_memory=False\n",
    ")\n",
    "\n",
    "small_val_loader = DataLoader(\n",
    "    small_val_dataset,\n",
    "    batch_size=BATCH_SIZE,\n",
    "    shuffle=False,\n",
    "    pin_memory=False\n",
    ")\n",
    "LEARNING_RATE = 3e-5\n",
    "NUM_EPOCHS = 2\n",
    "WARMUP_STEPS = 500\n",
    "WARMUP_RATIO = 0.1\n",
    "WEIGHT_DECAY = 0.01\n",
    "\n",
    "small_model = GPT2LMHeadModel.from_pretrained(model_name)\n",
    "model = small_model.to(device)\n",
    "\n",
    "optimizer = AdamW(small_model.parameters(), lr=LEARNING_RATE, weight_decay= WEIGHT_DECAY)\n",
    "\n",
    "total_steps = len(small_train_loader) * NUM_EPOCHS\n",
    "warmup_steps = int(total_steps * WARMUP_RATIO)\n",
    "\n",
    "scheduler = get_linear_schedule_with_warmup(\n",
    "    optimizer,\n",
    "    num_warmup_steps=WARMUP_STEPS,\n",
    "    num_training_steps=total_steps\n",
    ")\n",
    "print(f\"\\n{'='*60}\")\n",
    "print(\"TRAINING CONFIGURATION\")\n",
    "print(f\"{'='*60}\")\n",
    "print(f\"Model: {model_name}\")\n",
    "print(f\"Device: {device}\")\n",
    "print(f\"Batch size: {BATCH_SIZE}\")\n",
    "print(f\"Max length: {MAX_LENGTH}\")\n",
    "print(f\"Learning rate: {LEARNING_RATE}\")\n",
    "print(f\"Epochs: {NUM_EPOCHS}\")\n",
    "print(f\"Total steps: {total_steps}\")\n",
    "print(f\"Warmup steps: {warmup_steps}\")\n",
    "print(f\"{'='*60}\")\n"
   ]
  },
  {
   "cell_type": "code",
   "execution_count": 28,
   "id": "fa11a325",
   "metadata": {},
   "outputs": [
    {
     "name": "stdout",
     "output_type": "stream",
     "text": [
      "Using: cuda\n",
      "Starting training epoch 1/2 with 788 batches\n"
     ]
    },
    {
     "data": {
      "application/vnd.jupyter.widget-view+json": {
       "model_id": "2a0411f8723a4ee1a223d7f9bf86b129",
       "version_major": 2,
       "version_minor": 0
      },
      "text/plain": [
       "Epoch 1/2 (Training):   0%|          | 0/788 [00:00<?, ?it/s]"
      ]
     },
     "metadata": {},
     "output_type": "display_data"
    },
    {
     "name": "stdout",
     "output_type": "stream",
     "text": [
      "Epoch 1/2 - Avg Training Loss: 2.0262\n"
     ]
    },
    {
     "data": {
      "application/vnd.jupyter.widget-view+json": {
       "model_id": "8105b023c175479ca3570a8e12938cc4",
       "version_major": 2,
       "version_minor": 0
      },
      "text/plain": [
       "Epoch 1/2 (Validation):   0%|          | 0/198 [00:00<?, ?it/s]"
      ]
     },
     "metadata": {},
     "output_type": "display_data"
    },
    {
     "name": "stdout",
     "output_type": "stream",
     "text": [
      "Epoch 1/2: Avg Validation Loss: 1.4825\n",
      "Saved best model checkpoint: epoch 1\n",
      "Starting training epoch 2/2 with 788 batches\n"
     ]
    },
    {
     "data": {
      "application/vnd.jupyter.widget-view+json": {
       "model_id": "18d71752314a4d78930455fc892a46db",
       "version_major": 2,
       "version_minor": 0
      },
      "text/plain": [
       "Epoch 2/2 (Training):   0%|          | 0/788 [00:00<?, ?it/s]"
      ]
     },
     "metadata": {},
     "output_type": "display_data"
    },
    {
     "name": "stdout",
     "output_type": "stream",
     "text": [
      "Epoch 2/2 - Avg Training Loss: 1.5398\n"
     ]
    },
    {
     "data": {
      "application/vnd.jupyter.widget-view+json": {
       "model_id": "c8fc800b282a498ea4c0d24f00f9c6ab",
       "version_major": 2,
       "version_minor": 0
      },
      "text/plain": [
       "Epoch 2/2 (Validation):   0%|          | 0/198 [00:00<?, ?it/s]"
      ]
     },
     "metadata": {},
     "output_type": "display_data"
    },
    {
     "name": "stdout",
     "output_type": "stream",
     "text": [
      "Epoch 2/2: Avg Validation Loss: 1.4713\n",
      "Saved best model checkpoint: epoch 2\n",
      "Done!\n"
     ]
    }
   ],
   "source": [
    "small_model, history = train_gpt2_model(small_model, small_train_loader, small_val_loader, device, optimizer, scheduler, num_epochs=NUM_EPOCHS)"
   ]
  },
  {
   "cell_type": "code",
   "execution_count": 23,
   "id": "44ce7854",
   "metadata": {},
   "outputs": [],
   "source": [
    "import matplotlib.pyplot as plt\n",
    "import numpy as np\n",
    "def plot_training_history(history, save_path=None):\n",
    "    \"\"\"Plot training curves\"\"\"\n",
    "    fig, axes = plt.subplots(1, 2, figsize=(15, 5))\n",
    "    \n",
    "    epochs = range(1, len(history['train_loss']) + 1)\n",
    "\n",
    "    axes[0].plot(epochs, history['train_loss'], 'b-', label='Train Loss', linewidth=2)\n",
    "    axes[0].plot(epochs, history['val_loss'], 'r-', label='Val Loss', linewidth=2)\n",
    "    axes[0].set_xlabel('Epoch', fontsize=12)\n",
    "    axes[0].set_ylabel('Loss', fontsize=12)\n",
    "    axes[0].set_title('Training and Validation Loss', fontsize=14)\n",
    "    axes[0].legend()\n",
    "    axes[0].grid(True, alpha=0.3)\n",
    "    \n",
    "    train_perplexity = [torch.exp(torch.tensor(loss)).item() for loss in history['train_loss']]\n",
    "    val_perplexity = [torch.exp(torch.tensor(loss)).item() for loss in history['val_loss']]\n",
    "    \n",
    "    axes[1].plot(epochs, train_perplexity, 'b-', label='Train Perplexity', linewidth=2)\n",
    "    axes[1].plot(epochs, val_perplexity, 'r-', label='Val Perplexity', linewidth=2)\n",
    "    axes[1].set_xlabel('Epoch', fontsize=12)\n",
    "    axes[1].set_ylabel('Perplexity', fontsize=12)\n",
    "    axes[1].set_title('Training and Validation Perplexity', fontsize=14)\n",
    "    axes[1].legend()\n",
    "    axes[1].grid(True, alpha=0.3)\n",
    "    \n",
    "    plt.tight_layout()\n",
    "    \n",
    "    if save_path:\n",
    "        plt.savefig(save_path, dpi=300, bbox_inches='tight')\n",
    "    \n",
    "    plt.show()"
   ]
  },
  {
   "cell_type": "code",
   "execution_count": 24,
   "id": "982d891d",
   "metadata": {},
   "outputs": [
    {
     "data": {
      "image/png": "[encoded data removed]",
      "text/plain": [
       "<Figure size 1500x500 with 2 Axes>"
      ]
     },
     "metadata": {},
     "output_type": "display_data"
    }
   ],
   "source": [
    "plot_training_history(history)"
   ]
  },
  {
   "cell_type": "markdown",
   "id": "52ce284b",
   "metadata": {},
   "source": [
    " ### Big TF"
   ]
  },
  {
   "cell_type": "code",
   "execution_count": 40,
   "id": "762249e3",
   "metadata": {},
   "outputs": [
    {
     "name": "stdout",
     "output_type": "stream",
     "text": [
      "Genre distribution:\n",
      "genre\n",
      "Heavy Metal    10702\n",
      "Pop            10503\n",
      "Indie          10327\n",
      "Name: count, dtype: int64\n",
      "Train batches: 7883\n",
      "Val batches: 1774\n",
      "\n",
      "============================================================\n",
      "TRAINING CONFIGURATION\n",
      "============================================================\n",
      "Model: distilgpt2\n",
      "Device: cuda\n",
      "Batch size: 4\n",
      "Max length: 512\n",
      "Learning rate: 3e-05\n",
      "Epochs: 5\n",
      "Total steps: 39415\n",
      "Warmup steps: 3941\n",
      "============================================================\n"
     ]
    }
   ],
   "source": [
    "BATCH_SIZE = 4\n",
    "MAX_LENGTH = 512\n",
    "print(f\"Genre distribution:\\n{train_df['genre'].value_counts()}\")\n",
    "train_loader = DataLoader(\n",
    "    train_dataset,\n",
    "    batch_size=BATCH_SIZE,\n",
    "    shuffle=True,\n",
    "    num_workers=0,\n",
    "    pin_memory=False\n",
    ")\n",
    "\n",
    "val_loader = DataLoader(\n",
    "    val_dataset,\n",
    "    batch_size=BATCH_SIZE,\n",
    "    shuffle=False, \n",
    "    num_workers=0,\n",
    "    pin_memory=False\n",
    ")\n",
    "\n",
    "print(f\"Train batches: {len(train_loader)}\")\n",
    "print(f\"Val batches: {len(val_loader)}\")\n",
    "LEARNING_RATE = 3e-5\n",
    "NUM_EPOCHS = 5\n",
    "WARMUP_STEPS = 500\n",
    "WARMUP_RATIO = 0.1\n",
    "WEIGHT_DECAY = 0.01\n",
    "\n",
    "larger_data_model = GPT2LMHeadModel.from_pretrained(model_name)\n",
    "larger_data_model = larger_data_model.to(device)\n",
    "\n",
    "optimizer = AdamW(larger_data_model.parameters(), lr=LEARNING_RATE, weight_decay= WEIGHT_DECAY)\n",
    "\n",
    "total_steps = len(train_loader) * NUM_EPOCHS\n",
    "warmup_steps = int(total_steps * WARMUP_RATIO)\n",
    "\n",
    "scheduler = get_linear_schedule_with_warmup(\n",
    "    optimizer,\n",
    "    num_warmup_steps=WARMUP_STEPS,\n",
    "    num_training_steps=total_steps\n",
    ")\n",
    "print(f\"\\n{'='*60}\")\n",
    "print(\"TRAINING CONFIGURATION\")\n",
    "print(f\"{'='*60}\")\n",
    "print(f\"Model: {model_name}\")\n",
    "print(f\"Device: {device}\")\n",
    "print(f\"Batch size: {BATCH_SIZE}\")\n",
    "print(f\"Max length: {MAX_LENGTH}\")\n",
    "print(f\"Learning rate: {LEARNING_RATE}\")\n",
    "print(f\"Epochs: {NUM_EPOCHS}\")\n",
    "print(f\"Total steps: {total_steps}\")\n",
    "print(f\"Warmup steps: {warmup_steps}\")\n",
    "print(f\"{'='*60}\")\n",
    "\n"
   ]
  },
  {
   "cell_type": "code",
   "execution_count": 41,
   "id": "d8f3d6b1",
   "metadata": {},
   "outputs": [
    {
     "name": "stdout",
     "output_type": "stream",
     "text": [
      "Using: cuda\n",
      "Starting training epoch 1/5 with 7883 batches\n"
     ]
    },
    {
     "data": {
      "application/vnd.jupyter.widget-view+json": {
       "model_id": "3c319bbb7a8845ed8f57ab0f14fa6577",
       "version_major": 2,
       "version_minor": 0
      },
      "text/plain": [
       "Epoch 1/5 (Training):   0%|          | 0/7883 [00:00<?, ?it/s]"
      ]
     },
     "metadata": {},
     "output_type": "display_data"
    },
    {
     "name": "stdout",
     "output_type": "stream",
     "text": [
      "Epoch 1/5 - Avg Training Loss: 1.0791\n"
     ]
    },
    {
     "data": {
      "application/vnd.jupyter.widget-view+json": {
       "model_id": "424be81b48d642559f1ba6658499d620",
       "version_major": 2,
       "version_minor": 0
      },
      "text/plain": [
       "Epoch 1/5 (Validation):   0%|          | 0/1774 [00:00<?, ?it/s]"
      ]
     },
     "metadata": {},
     "output_type": "display_data"
    },
    {
     "name": "stdout",
     "output_type": "stream",
     "text": [
      "Epoch 1/5: Avg Validation Loss: 0.9807\n",
      "Saved best model checkpoint: epoch 1\n",
      "Starting training epoch 2/5 with 7883 batches\n"
     ]
    },
    {
     "data": {
      "application/vnd.jupyter.widget-view+json": {
       "model_id": "de3a737a66c949c8ab14022d6dd7cb88",
       "version_major": 2,
       "version_minor": 0
      },
      "text/plain": [
       "Epoch 2/5 (Training):   0%|          | 0/7883 [00:00<?, ?it/s]"
      ]
     },
     "metadata": {},
     "output_type": "display_data"
    },
    {
     "name": "stdout",
     "output_type": "stream",
     "text": [
      "Epoch 2/5 - Avg Training Loss: 0.9828\n"
     ]
    },
    {
     "data": {
      "application/vnd.jupyter.widget-view+json": {
       "model_id": "03f68e7a807a4dc8a8c4b4e18f89cce8",
       "version_major": 2,
       "version_minor": 0
      },
      "text/plain": [
       "Epoch 2/5 (Validation):   0%|          | 0/1774 [00:00<?, ?it/s]"
      ]
     },
     "metadata": {},
     "output_type": "display_data"
    },
    {
     "name": "stdout",
     "output_type": "stream",
     "text": [
      "Epoch 2/5: Avg Validation Loss: 0.9666\n",
      "Saved best model checkpoint: epoch 2\n",
      "Starting training epoch 3/5 with 7883 batches\n"
     ]
    },
    {
     "data": {
      "application/vnd.jupyter.widget-view+json": {
       "model_id": "dd670d56ff15454894fe732886e9c884",
       "version_major": 2,
       "version_minor": 0
      },
      "text/plain": [
       "Epoch 3/5 (Training):   0%|          | 0/7883 [00:00<?, ?it/s]"
      ]
     },
     "metadata": {},
     "output_type": "display_data"
    },
    {
     "name": "stdout",
     "output_type": "stream",
     "text": [
      "Epoch 3/5 - Avg Training Loss: 0.9637\n"
     ]
    },
    {
     "data": {
      "application/vnd.jupyter.widget-view+json": {
       "model_id": "f2f8e829f09f47c9a721d400a970ccec",
       "version_major": 2,
       "version_minor": 0
      },
      "text/plain": [
       "Epoch 3/5 (Validation):   0%|          | 0/1774 [00:00<?, ?it/s]"
      ]
     },
     "metadata": {},
     "output_type": "display_data"
    },
    {
     "name": "stdout",
     "output_type": "stream",
     "text": [
      "Epoch 3/5: Avg Validation Loss: 0.9600\n",
      "Patience counter: 1/2\n",
      "Starting training epoch 4/5 with 7883 batches\n"
     ]
    },
    {
     "data": {
      "application/vnd.jupyter.widget-view+json": {
       "model_id": "feb7043fdbbd460db0fb8fe38ce1e437",
       "version_major": 2,
       "version_minor": 0
      },
      "text/plain": [
       "Epoch 4/5 (Training):   0%|          | 0/7883 [00:00<?, ?it/s]"
      ]
     },
     "metadata": {},
     "output_type": "display_data"
    },
    {
     "name": "stdout",
     "output_type": "stream",
     "text": [
      "Epoch 4/5 - Avg Training Loss: 0.9517\n"
     ]
    },
    {
     "data": {
      "application/vnd.jupyter.widget-view+json": {
       "model_id": "97cd910e9a534a5faec702f17f3fd274",
       "version_major": 2,
       "version_minor": 0
      },
      "text/plain": [
       "Epoch 4/5 (Validation):   0%|          | 0/1774 [00:00<?, ?it/s]"
      ]
     },
     "metadata": {},
     "output_type": "display_data"
    },
    {
     "name": "stdout",
     "output_type": "stream",
     "text": [
      "Epoch 4/5: Avg Validation Loss: 0.9561\n",
      "Saved best model checkpoint: epoch 4\n",
      "Starting training epoch 5/5 with 7883 batches\n"
     ]
    },
    {
     "data": {
      "application/vnd.jupyter.widget-view+json": {
       "model_id": "d03cffa2d0a348aba7707910df694d07",
       "version_major": 2,
       "version_minor": 0
      },
      "text/plain": [
       "Epoch 5/5 (Training):   0%|          | 0/7883 [00:00<?, ?it/s]"
      ]
     },
     "metadata": {},
     "output_type": "display_data"
    },
    {
     "name": "stdout",
     "output_type": "stream",
     "text": [
      "Epoch 5/5 - Avg Training Loss: 0.9443\n"
     ]
    },
    {
     "data": {
      "application/vnd.jupyter.widget-view+json": {
       "model_id": "41509e5fb88c41fe9868a8a49502905b",
       "version_major": 2,
       "version_minor": 0
      },
      "text/plain": [
       "Epoch 5/5 (Validation):   0%|          | 0/1774 [00:00<?, ?it/s]"
      ]
     },
     "metadata": {},
     "output_type": "display_data"
    },
    {
     "name": "stdout",
     "output_type": "stream",
     "text": [
      "Epoch 5/5: Avg Validation Loss: 0.9548\n",
      "Patience counter: 1/2\n",
      "Done!\n"
     ]
    }
   ],
   "source": [
    "model2, big_history = train_gpt2_model(larger_data_model, train_loader, val_loader, device, optimizer, scheduler, num_epochs=NUM_EPOCHS, model_name='gpt2_all_data_model')"
   ]
  },
  {
   "cell_type": "code",
   "execution_count": 48,
   "id": "5e7e0c35",
   "metadata": {},
   "outputs": [],
   "source": [
    "import os\n",
    "import numpy as np\n",
    "import matplotlib.pyplot as plt\n",
    "\n",
    "def to_cpu_floats(lst):\n",
    "    return [x.detach().cpu().item() if hasattr(x, \"detach\") else float(x) for x in lst]\n",
    "\n",
    "def smooth_array(x, window=50):\n",
    "    if window <= 1:\n",
    "        return np.array(x)\n",
    "    smoothed = []\n",
    "    for i in range(len(x)):\n",
    "        start = max(0, i - window // 2)\n",
    "        end = min(len(x), i + window // 2)\n",
    "        smoothed.append(np.mean(x[start:end]))\n",
    "    return np.array(smoothed)\n",
    "\n",
    "def create_poster_plots(history, num_epochs=None, batches_per_epoch=None, save_dir='./plots'):\n",
    "    \"\"\"Two poster plots: batch-level (with val) + epoch-level (with perplexity).\"\"\"\n",
    "    os.makedirs(save_dir, exist_ok=True)\n",
    "\n",
    "    # --- Convert tensors safely ---\n",
    "    for k, v in history.items():\n",
    "        if isinstance(v, list):\n",
    "            history[k] = to_cpu_floats(v)\n",
    "\n",
    "    train_batch = np.array(history['train_loss_per_batch'])\n",
    "    val_batch   = np.array(history['val_loss_per_batch'])\n",
    "    train_epoch = np.array(history['train_loss_per_epoch'])\n",
    "    val_epoch   = np.array(history['val_loss_per_epoch'])\n",
    "    lrs         = np.array(history.get('learning_rates', []))\n",
    "\n",
    "    # PLOT 1\n",
    "    fig, ax1 = plt.subplots(figsize=(10, 5))\n",
    "\n",
    "    steps = np.arange(len(train_batch))\n",
    "    smooth_window = max(10, len(train_batch)//200)\n",
    "    smooth_train = smooth_array(train_batch, window=smooth_window)\n",
    "\n",
    "    ax1.plot(steps, smooth_train, color='#0072B2', linewidth=2.5, label='Train Loss (Smoothed)')\n",
    "\n",
    "    # \n",
    "    if len(val_batch) > 0:\n",
    "        val_steps = np.linspace(0, len(train_batch), len(val_batch))\n",
    "        smooth_val = smooth_array(val_batch, window=smooth_window)\n",
    "        ax1.plot(val_steps, smooth_val, color='#D55E00', linewidth=2.0, label='Val Loss (Smoothed)')\n",
    "\n",
    "    ax1.set_xlabel('Training Step (batches)', fontsize=13, fontweight='bold')\n",
    "    ax1.set_ylabel('Loss', fontsize=13, fontweight='bold')\n",
    "    ax1.grid(True, alpha=0.3)\n",
    "\n",
    "    # Highlight epoch boundaries\n",
    "    if num_epochs and batches_per_epoch:\n",
    "        for e in range(1, num_epochs):\n",
    "            step = e * batches_per_epoch\n",
    "            ax1.axvline(step, color='gray', linestyle='--', alpha=0.3)\n",
    "            ax1.text(step, ax1.get_ylim()[1]*0.95, f'E{e}', ha='center', color='gray', fontsize=9)\n",
    "\n",
    "    # \n",
    "    if len(lrs) == len(train_batch):\n",
    "        ax2 = ax1.twinx()\n",
    "        ax2.plot(steps, lrs, color='gray', linestyle='--', alpha=0.6, label='Learning Rate')\n",
    "        ax2.set_ylabel('Learning Rate', color='gray', fontsize=11)\n",
    "        ax2.tick_params(axis='y', colors='gray')\n",
    "        lines, labels = ax1.get_legend_handles_labels()\n",
    "        lines2, labels2 = ax2.get_legend_handles_labels()\n",
    "        ax1.legend(lines + lines2, labels + labels2, loc='upper right', fontsize=11)\n",
    "    else:\n",
    "        ax1.legend(fontsize=11, loc='upper right')\n",
    "\n",
    "    plt.title('Batch-level Training and Validation Dynamics', fontsize=16, fontweight='bold', pad=10)\n",
    "    plt.tight_layout()\n",
    "    plt.savefig(f'{save_dir}/poster_batch_loss.png', dpi=400, bbox_inches='tight')\n",
    "    plt.show()\n",
    "\n",
    "    # ==================== PLOT 2: Epoch-level (Loss + Perplexity) ====================\n",
    "    fig, ax = plt.subplots(figsize=(8, 5))\n",
    "    epochs = np.arange(1, len(train_epoch) + 1)\n",
    "\n",
    "    # Base loss curves\n",
    "    ax.plot(epochs, train_epoch, '-o', color='#0072B2', linewidth=2.5, label='Train Loss')\n",
    "    ax.plot(epochs, val_epoch, '-s', color='#D55E00', linewidth=2.5, label='Validation Loss')\n",
    "\n",
    "    if len(train_epoch) == len(val_epoch):\n",
    "        ax.fill_between(epochs, train_epoch, val_epoch, color='orange', alpha=0.15, label='Generalization Gap')\n",
    "\n",
    "    ax.set_xlabel('Epoch', fontsize=13, fontweight='bold')\n",
    "    ax.set_ylabel('Loss', fontsize=13, fontweight='bold')\n",
    "    ax.grid(True, alpha=0.3)\n",
    "    ax.legend(fontsize=11, loc='upper right', frameon=False)\n",
    "    ax.set_title('Train vs Validation: Loss and Perplexity', fontsize=16, fontweight='bold', pad=10)\n",
    "\n",
    "    # ---- Secondary Perplexity Axis (visible dashed curves) ----\n",
    "    '''\n",
    "     ax2 = ax.twinx()\n",
    "    train_ppl = np.exp(train_epoch)\n",
    "    val_ppl   = np.exp(val_epoch)\n",
    "\n",
    "    ax2.plot(epochs, train_ppl, '--', color='#0072B2', alpha=0.6, linewidth=2, label='Train PPL')\n",
    "    ax2.plot(epochs, val_ppl, '--', color='#D55E00', alpha=0.6, linewidth=2, label='Val PPL')\n",
    "\n",
    "    ax2.set_ylabel('Perplexity', fontsize=13, color='gray', fontweight='bold')\n",
    "    ax2.tick_params(axis='y', labelcolor='gray')\n",
    "\n",
    "    # Merge legends\n",
    "    lines1, labels1 = ax.get_legend_handles_labels()\n",
    "    lines2, labels2 = ax2.get_legend_handles_labels()\n",
    "    ax.legend(lines1 + lines2, labels1 + labels2, loc='upper right', fontsize=11, frameon=False)\n",
    "    '''\n",
    "   \n",
    "\n",
    "    plt.tight_layout()\n",
    "    plt.savefig(f'{save_dir}/poster_epoch_loss_ppl.png', dpi=400, bbox_inches='tight')\n",
    "    plt.show()\n",
    "\n",
    "    print(\"✓ Saved poster plots with train+val batch curves and perplexity:\", save_dir)\n"
   ]
  },
  {
   "cell_type": "code",
   "execution_count": null,
   "id": "7ee9f2e8",
   "metadata": {},
   "outputs": [],
   "source": [
    "import os\n",
    "import numpy as np\n",
    "import matplotlib.pyplot as plt\n",
    "\n",
    "def to_cpu_floats(lst):\n",
    "    return [x.detach().cpu().item() if hasattr(x, \"detach\") else float(x) for x in lst]\n",
    "\n",
    "def smooth_array(x, window=50):\n",
    "    if window <= 1:\n",
    "        return np.array(x)\n",
    "    smoothed = []\n",
    "    for i in range(len(x)):\n",
    "        start = max(0, i - window // 2)\n",
    "        end = min(len(x), i + window // 2)\n",
    "        smoothed.append(np.mean(x[start:end]))\n",
    "    return np.array(smoothed)\n",
    "\n",
    "def create_poster_plots(history, num_epochs=None, batches_per_epoch=None, save_dir='./plots'):\n",
    "    \"\"\"Two poster plots: batch-level (with val) + epoch-level (with perplexity).\"\"\"\n",
    "    os.makedirs(save_dir, exist_ok=True)\n",
    "\n",
    "    # --- Convert tensors safely ---\n",
    "    for k, v in history.items():\n",
    "        if isinstance(v, list):\n",
    "            history[k] = to_cpu_floats(v)\n",
    "\n",
    "    train_batch = np.array(history['train_loss_per_batch'])\n",
    "    val_batch   = np.array(history['val_loss_per_batch'])\n",
    "    train_epoch = np.array(history['train_loss_per_epoch'])\n",
    "    val_epoch   = np.array(history['val_loss_per_epoch'])\n",
    "    lrs         = np.array(history.get('learning_rates', []))\n",
    "\n",
    "    # PLOT 1\n",
    "    fig, ax1 = plt.subplots(figsize=(10, 5))\n",
    "\n",
    "    steps = np.arange(len(train_batch))\n",
    "    smooth_window = max(10, len(train_batch)//200)\n",
    "    smooth_train = smooth_array(train_batch, window=smooth_window)\n",
    "\n",
    "    ax1.plot(steps, smooth_train, color='#0072B2', linewidth=2.5, label='Train Loss (Smoothed)')\n",
    "\n",
    "    # \n",
    "    if len(val_batch) > 0:\n",
    "        val_steps = np.linspace(0, len(train_batch), len(val_batch))\n",
    "        smooth_val = smooth_array(val_batch, window=smooth_window)\n",
    "        ax1.plot(val_steps, smooth_val, color='#D55E00', linewidth=2.0, label='Val Loss (Smoothed)')\n",
    "\n",
    "    ax1.set_xlabel('Training Step (batches)', fontsize=13, fontweight='bold')\n",
    "    ax1.set_ylabel('Loss', fontsize=13, fontweight='bold')\n",
    "    ax1.grid(True, alpha=0.3)\n",
    "\n",
    "    # Highlight epoch boundaries\n",
    "    if num_epochs and batches_per_epoch:\n",
    "        for e in range(1, num_epochs):\n",
    "            step = e * batches_per_epoch\n",
    "            ax1.axvline(step, color='gray', linestyle='--', alpha=0.3)\n",
    "            ax1.text(step, ax1.get_ylim()[1]*0.95, f'E{e}', ha='center', color='gray', fontsize=9)\n",
    "\n",
    "    # \n",
    "    if len(lrs) == len(train_batch):\n",
    "        ax2 = ax1.twinx()\n",
    "        ax2.plot(steps, lrs, color='gray', linestyle='--', alpha=0.6, label='Learning Rate')\n",
    "        ax2.set_ylabel('Learning Rate', color='gray', fontsize=11)\n",
    "        ax2.tick_params(axis='y', colors='gray')\n",
    "        lines, labels = ax1.get_legend_handles_labels()\n",
    "        lines2, labels2 = ax2.get_legend_handles_labels()\n",
    "        ax1.legend(lines + lines2, labels + labels2, loc='upper right', fontsize=11)\n",
    "    else:\n",
    "        ax1.legend(fontsize=11, loc='upper right')\n",
    "\n",
    "    plt.title('Batch-level Training and Validation Dynamics', fontsize=16, fontweight='bold', pad=10)\n",
    "    plt.tight_layout()\n",
    "    plt.savefig(f'{save_dir}/poster_batch_loss.png', dpi=400, bbox_inches='tight')\n",
    "    plt.show()\n",
    "\n",
    "    # ==================== PLOT 2: Epoch-level (Loss + Perplexity) ====================\n",
    "    fig, ax = plt.subplots(figsize=(8, 5))\n",
    "    epochs = np.arange(1, len(train_epoch) + 1)\n",
    "\n",
    "    # Base loss curves\n",
    "    ax.plot(epochs, train_epoch, '-o', color='#0072B2', linewidth=2.5, label='Train Loss')\n",
    "    ax.plot(epochs, val_epoch, '-s', color='#D55E00', linewidth=2.5, label='Validation Loss')\n",
    "\n",
    "    if len(train_epoch) == len(val_epoch):\n",
    "        ax.fill_between(epochs, train_epoch, val_epoch, color='orange', alpha=0.15, label='Generalization Gap')\n",
    "\n",
    "    ax.set_xlabel('Epoch', fontsize=13, fontweight='bold')\n",
    "    ax.set_ylabel('Loss', fontsize=13, fontweight='bold')\n",
    "    ax.grid(True, alpha=0.3)\n",
    "    ax.legend(fontsize=11, loc='upper left', frameon=False)\n",
    "    ax.set_title('Train vs Validation: Loss and Perplexity', fontsize=16, fontweight='bold', pad=10)\n",
    "\n",
    "    # ---- Secondary Perplexity Axis (visible dashed curves) ----\n",
    "    '''\n",
    "    '''\n",
    "   \n",
    "\n",
    "    plt.tight_layout()\n",
    "    plt.savefig(f'{save_dir}/poster_epoch_loss_ppl.png', dpi=400, bbox_inches='tight')\n",
    "    plt.show()\n",
    "\n",
    "    print(\"✓ Saved poster plots with train+val batch curves and perplexity:\", save_dir)\n"
   ]
  },
  {
   "cell_type": "code",
   "execution_count": 49,
   "id": "ab8a32ba",
   "metadata": {},
   "outputs": [
    {
     "data": {
      "image/png": "[encoded data removed]",
      "text/plain": [
       "<Figure size 1000x500 with 2 Axes>"
      ]
     },
     "metadata": {},
     "output_type": "display_data"
    },
    {
     "data": {
      "image/png": "[encoded data removed]",
      "text/plain": [
       "<Figure size 800x500 with 1 Axes>"
      ]
     },
     "metadata": {},
     "output_type": "display_data"
    },
    {
     "name": "stdout",
     "output_type": "stream",
     "text": [
      "✓ Saved poster plots with train+val batch curves and perplexity: ./plots\n"
     ]
    }
   ],
   "source": [
    "create_poster_plots(big_history, num_epochs=NUM_EPOCHS, batches_per_epoch=len(train_loader))\n"
   ]
  },
  {
   "cell_type": "code",
   "execution_count": null,
   "id": "fc9d4d25",
   "metadata": {},
   "outputs": [],
   "source": [
    "\n",
    "import json\n",
    "os.makedirs(\"./params\", exist_ok=True)\n",
    "os.makedirs(\"./data\", exist_ok=True)\n",
    "\n",
    "\n",
    "for k, v in big_history.items():\n",
    "    if isinstance(v, list):\n",
    "        big_history[k] = [float(x.detach().cpu()) if hasattr(x, \"detach\") else float(x) for x in v]\n",
    "\n",
    "history_path = \"./params/big_training_history.json\"\n",
    "with open(history_path, \"w\") as f:\n",
    "    json.dump(big_history, f, indent=2)\n",
    "\n",
    "train_path = \"./data/train_split.csv\"\n",
    "val_path   = \"./data/val_split.csv\"\n",
    "test_path  = \"./data/test_split.csv\"\n",
    "\n",
    "train_df.to_csv(train_path, index=False)\n",
    "val_df.to_csv(val_path, index=False)\n",
    "test_df.to_csv(test_path, index=False)\n"
   ]
  },
  {
   "cell_type": "code",
   "execution_count": null,
   "id": "beb5eb63",
   "metadata": {},
   "outputs": [],
   "source": []
  }
 ],
 "metadata": {
  "kernelspec": {
   "display_name": "dml-project",
   "language": "python",
   "name": "python3"
  },
  "language_info": {
   "codemirror_mode": {
    "name": "ipython",
    "version": 3
   },
   "file_extension": ".py",
   "mimetype": "text/x-python",
   "name": "python",
   "nbconvert_exporter": "python",
   "pygments_lexer": "ipython3",
   "version": "3.10.19"
  }
 },
 "nbformat": 4,
 "nbformat_minor": 5
}
