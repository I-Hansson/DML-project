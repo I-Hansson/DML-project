{
 "cells": [
  {
   "cell_type": "markdown",
   "id": "0d6775ad",
   "metadata": {},
   "source": [
    "## Baseline for genre model"
   ]
  },
  {
   "cell_type": "code",
   "execution_count": 1,
   "id": "ca870c88",
   "metadata": {},
   "outputs": [],
   "source": [
    "import os\n",
    "os.environ['HF_HUB_DISABLE_XET'] = '1'\n"
   ]
  },
  {
   "cell_type": "code",
   "execution_count": 5,
   "id": "e6392755",
   "metadata": {},
   "outputs": [
    {
     "name": "stdout",
     "output_type": "stream",
     "text": [
      "Using device: cpu\n",
      "done downloaded\n",
      "Input IDs shape: torch.Size([1, 5])\n"
     ]
    }
   ],
   "source": [
    "from transformers import GPT2LMHeadModel, GPT2Tokenizer\n",
    "import torch\n",
    "from pathlib import Path\n",
    "cache_dir = Path.home() / \".cache\" / \"huggingface\"\n",
    "\n",
    "\n",
    "\n",
    "device = \"cpu\" if torch.cuda.is_available() else \"cpu\"\n",
    "print(f\"Using device: {device}\")\n",
    "\n",
    "model_name = \"gpt2\"\n",
    "model = GPT2LMHeadModel.from_pretrained(model_name)\n",
    "print('done downloaded')\n",
    "tokenizer = GPT2Tokenizer.from_pretrained(model_name)\n",
    "tokenizer.pad_token = tokenizer.eos_token\n",
    "\n",
    "model = model.to(device)\n",
    "model.eval()\n",
    "\n",
    "input_sequence = \"Genre: Indie\\n\\n\"\n",
    "input_ids = tokenizer.encode(input_sequence, return_tensors='pt').to(device)\n",
    "\n",
    "print(f\"Input IDs shape: {input_ids.shape}\")"
   ]
  },
  {
   "cell_type": "code",
   "execution_count": 7,
   "id": "d7050460",
   "metadata": {},
   "outputs": [
    {
     "name": "stdout",
     "output_type": "stream",
     "text": [
      "Generating lyrics...\n",
      " samples in 20.66 seconds\n",
      "\n",
      "============================================================\n",
      "BASELINE SAMPLE 1\n",
      "============================================================\n",
      "Genre: Indie\n",
      "\n",
      "\n",
      "Posts : 604 Re-release of the first release « on Tuesday, March 27th 2012 at 13.20 am » Dear Friends! Thank you for your continued support and friendship - we are now able to begin work with our next project... The new game We have just announced is called \"Wreckers\". This time it's going up against a completely different group from what was already created (which includes me). A name that feels familiar? What did they think would make us feel so much better after watching this amazing video?! It has nothing like some other trailer I've seen in awhile but as soon As You Can see when people get into my head which one do YOU want them to choose between there being an emotional cliffhanger before leaving home?? And then again its never been done yet i'm not sure if thats how he had his feelings towards another person or maybe Im talking about him taking care by himself.. That feeling gets stronger every second until their eyes\n",
      "\n",
      "============================================================\n",
      "BASELINE SAMPLE 2\n",
      "============================================================\n",
      "Genre: Indie\n",
      "\n",
      "\n",
      "In addition to the usual range of games, I am also playing various versions and genres (e.g., The Dark Tower II; War Thunder) on my Android phone or tablet in a variety more interesting ways - like it's being played live online versus offline with your friends while you are outside by yourself as part for social entertainment & gaming at home\n"
     ]
    }
   ],
   "source": [
    "from tqdm import tqdm\n",
    "print(\"Generating lyrics...\")\n",
    "\n",
    "import time\n",
    "start_time = time.time()\n",
    "\n",
    "sample_outputs = model.generate(\n",
    "    input_ids,\n",
    "    do_sample=True, \n",
    "    max_length=200,\n",
    "    temperature=0.9,\n",
    "    top_k=50,\n",
    "    top_p=0.9,\n",
    "    repetition_penalty=1.2,    \n",
    "    num_return_sequences=2,\n",
    "    pad_token_id=tokenizer.eos_token_id,\n",
    "    eos_token_id=tokenizer.eos_token_id,\n",
    ")\n",
    "\n",
    "elapsed = time.time() - start_time\n",
    "print(f\" samples in {elapsed:.2f} seconds\")\n",
    "\n",
    "# Decode and print\n",
    "for i, output in enumerate(sample_outputs, 1):\n",
    "    text = tokenizer.decode(output, skip_special_tokens=True)\n",
    "    print(f\"\\n{'='*60}\")\n",
    "    print(f\"BASELINE SAMPLE {i}\")\n",
    "    print(f\"{'='*60}\")\n",
    "    print(text)"
   ]
  },
  {
   "cell_type": "markdown",
   "id": "47c4c1f4",
   "metadata": {},
   "source": []
  }
 ],
 "metadata": {
  "kernelspec": {
   "display_name": "dml-project",
   "language": "python",
   "name": "python3"
  },
  "language_info": {
   "codemirror_mode": {
    "name": "ipython",
    "version": 3
   },
   "file_extension": ".py",
   "mimetype": "text/x-python",
   "name": "python",
   "nbconvert_exporter": "python",
   "pygments_lexer": "ipython3",
   "version": "3.10.19"
  }
 },
 "nbformat": 4,
 "nbformat_minor": 5
}
