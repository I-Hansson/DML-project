{
 "cells": [
  {
   "cell_type": "code",
   "execution_count": 1,
   "id": "5181da2e",
   "metadata": {},
   "outputs": [],
   "source": [
    "import torch\n",
    "from transformers import GPT2LMHeadModel, GPT2Tokenizer\n",
    "from pathlib import Path\n",
    "import os"
   ]
  },
  {
   "cell_type": "code",
   "execution_count": 2,
   "id": "d496f734",
   "metadata": {},
   "outputs": [
    {
     "name": "stdout",
     "output_type": "stream",
     "text": [
      "/home/isachansson/DML-project/notebooks/models/last_training.pt\n",
      "cuda\n"
     ]
    }
   ],
   "source": [
    "model_name = \"distilgpt2\"\n",
    "model_save_path = Path(os.getcwd()) / 'models'\n",
    "weights_path = f'{model_save_path}/last_training.pt'\n",
    "device = torch.device(\"cuda\" if torch.cuda.is_available() else \"cpu\")\n",
    "print(weights_path)\n",
    "print(device)"
   ]
  },
  {
   "cell_type": "code",
   "execution_count": 3,
   "id": "34a63219",
   "metadata": {},
   "outputs": [
    {
     "data": {
      "text/plain": [
       "GPT2LMHeadModel(\n",
       "  (transformer): GPT2Model(\n",
       "    (wte): Embedding(50257, 768)\n",
       "    (wpe): Embedding(1024, 768)\n",
       "    (drop): Dropout(p=0.1, inplace=False)\n",
       "    (h): ModuleList(\n",
       "      (0-5): 6 x GPT2Block(\n",
       "        (ln_1): LayerNorm((768,), eps=1e-05, elementwise_affine=True)\n",
       "        (attn): GPT2SdpaAttention(\n",
       "          (c_attn): Conv1D()\n",
       "          (c_proj): Conv1D()\n",
       "          (attn_dropout): Dropout(p=0.1, inplace=False)\n",
       "          (resid_dropout): Dropout(p=0.1, inplace=False)\n",
       "        )\n",
       "        (ln_2): LayerNorm((768,), eps=1e-05, elementwise_affine=True)\n",
       "        (mlp): GPT2MLP(\n",
       "          (c_fc): Conv1D()\n",
       "          (c_proj): Conv1D()\n",
       "          (act): NewGELUActivation()\n",
       "          (dropout): Dropout(p=0.1, inplace=False)\n",
       "        )\n",
       "      )\n",
       "    )\n",
       "    (ln_f): LayerNorm((768,), eps=1e-05, elementwise_affine=True)\n",
       "  )\n",
       "  (lm_head): Linear(in_features=768, out_features=50257, bias=False)\n",
       ")"
      ]
     },
     "execution_count": 3,
     "metadata": {},
     "output_type": "execute_result"
    }
   ],
   "source": [
    "tokenizer = GPT2Tokenizer.from_pretrained(model_name)\n",
    "tokenizer.pad_token = tokenizer.eos_token\n",
    "\n",
    "model = GPT2LMHeadModel.from_pretrained(model_name)\n",
    "model.load_state_dict(torch.load(weights_path, map_location=device))\n",
    "model.to(device)\n",
    "model.eval()"
   ]
  },
  {
   "cell_type": "code",
   "execution_count": 4,
   "id": "195a1200",
   "metadata": {},
   "outputs": [
    {
     "name": "stdout",
     "output_type": "stream",
     "text": [
      "\n",
      "Loading baseline model for comparison...\n"
     ]
    },
    {
     "data": {
      "text/plain": [
       "GPT2LMHeadModel(\n",
       "  (transformer): GPT2Model(\n",
       "    (wte): Embedding(50257, 768)\n",
       "    (wpe): Embedding(1024, 768)\n",
       "    (drop): Dropout(p=0.1, inplace=False)\n",
       "    (h): ModuleList(\n",
       "      (0-5): 6 x GPT2Block(\n",
       "        (ln_1): LayerNorm((768,), eps=1e-05, elementwise_affine=True)\n",
       "        (attn): GPT2SdpaAttention(\n",
       "          (c_attn): Conv1D()\n",
       "          (c_proj): Conv1D()\n",
       "          (attn_dropout): Dropout(p=0.1, inplace=False)\n",
       "          (resid_dropout): Dropout(p=0.1, inplace=False)\n",
       "        )\n",
       "        (ln_2): LayerNorm((768,), eps=1e-05, elementwise_affine=True)\n",
       "        (mlp): GPT2MLP(\n",
       "          (c_fc): Conv1D()\n",
       "          (c_proj): Conv1D()\n",
       "          (act): NewGELUActivation()\n",
       "          (dropout): Dropout(p=0.1, inplace=False)\n",
       "        )\n",
       "      )\n",
       "    )\n",
       "    (ln_f): LayerNorm((768,), eps=1e-05, elementwise_affine=True)\n",
       "  )\n",
       "  (lm_head): Linear(in_features=768, out_features=50257, bias=False)\n",
       ")"
      ]
     },
     "execution_count": 4,
     "metadata": {},
     "output_type": "execute_result"
    }
   ],
   "source": [
    "print(\"\\nLoading baseline model for comparison...\")\n",
    "baseline_model = GPT2LMHeadModel.from_pretrained('distilgpt2').to(device)\n",
    "baseline_model.eval()"
   ]
  },
  {
   "cell_type": "code",
   "execution_count": 15,
   "id": "db1c21ca",
   "metadata": {},
   "outputs": [],
   "source": [
    "def generate_lyrics(\n",
    "    model,\n",
    "    tokenizer,\n",
    "    genre,\n",
    "    device,\n",
    "    max_length=512,\n",
    "    num_samples=1\n",
    "):\n",
    "    model.eval()\n",
    "    \n",
    "    prompt = f\"Genre: {genre}\\n\\nLyrics:\"\n",
    "    inputs = tokenizer(prompt, return_tensors='pt').to(device)\n",
    "    \n",
    "    with torch.no_grad():\n",
    "        outputs = model.generate(\n",
    "        inputs['input_ids'],\n",
    "        do_sample=True,\n",
    "        max_length=max_length,\n",
    "        top_p=0.9,\n",
    "        top_k=50,\n",
    "        temperature=0.9,\n",
    "        repetition_penalty=1.1,\n",
    "        pad_token_id=tokenizer.eos_token_id,\n",
    "        eos_token_id=tokenizer.eos_token_id,\n",
    "        num_return_sequences=num_samples,\n",
    "    )\n",
    "    \n",
    "    lyrics = []\n",
    "    for output in outputs:\n",
    "        text = tokenizer.decode(output, skip_special_tokens=True)\n",
    "        text = text[len(prompt):].strip()\n",
    "        lyrics.append(text)\n",
    "    \n",
    "    return lyrics"
   ]
  },
  {
   "cell_type": "code",
   "execution_count": 17,
   "id": "bae62409",
   "metadata": {},
   "outputs": [],
   "source": [
    "def compare_baseline_vs_finetuned(baseline_model, finetuned_model, tokenizer, device):\n",
    "    genres = ['Pop', 'Heavy Metal', 'Indie']\n",
    "    \n",
    "    for genre in genres:\n",
    "        print(f\"\\n{'='*80}\")\n",
    "        print(f\"GENRE: {genre}\")\n",
    "        print(f\"{'='*80}\")\n",
    "        \n",
    "        print(\"\\n\" + \"-\"*80)\n",
    "        print(\"BASELINE\")\n",
    "        print(\"-\"*80)\n",
    "        \n",
    "        baseline_lyrics = generate_lyrics(\n",
    "            baseline_model,\n",
    "            tokenizer,\n",
    "            genre,\n",
    "            device,\n",
    "            max_length=512,\n",
    "            num_samples=1\n",
    "        )\n",
    "        print(baseline_lyrics[0][:500])\n",
    "        print(\"\\n\" + \"-\"*80)\n",
    "        print(\"FINE-TUNED\")\n",
    "        print(\"-\"*80)\n",
    "        \n",
    "        finetuned_lyrics = generate_lyrics(\n",
    "            finetuned_model,\n",
    "            tokenizer,\n",
    "            genre,\n",
    "            device,\n",
    "            max_length=512,\n",
    "            num_samples=1\n",
    "        )\n",
    "        print(finetuned_lyrics[0][:500])"
   ]
  },
  {
   "cell_type": "code",
   "execution_count": 18,
   "id": "a704f990",
   "metadata": {},
   "outputs": [
    {
     "name": "stdout",
     "output_type": "stream",
     "text": [
      "\n",
      "================================================================================\n",
      "GENRE: Pop\n",
      "================================================================================\n",
      "\n",
      "--------------------------------------------------------------------------------\n",
      "BASELINE\n",
      "--------------------------------------------------------------------------------\n",
      "\"I'm a Christian.\" - A new album from their label, the Allure Label, has been released on all three disc formats and is set to be out for only £14.99 / 30 GBp (for $15/day or over).The record covers 13 songs with several tracks including two solo releases; some of which are covered in an adorably close third by The Librarian's Bookkeeper. As well as reissue artwork along with art direction, each song features more than four different cover versions featuring various characters – most likely bein\n",
      "\n",
      "--------------------------------------------------------------------------------\n",
      "FINE-TUNED\n",
      "--------------------------------------------------------------------------------\n",
      "Lyrics:\n",
      "You are your only friend\n",
      "I'm in the wrong place, right now\n",
      "The last time I saw you was when he kissed me on my face\n",
      "And his head turned round.\n",
      "He left a mark to say that love wasn't worth what it took.\n",
      "Somewhere there could be no one but him.\n",
      "We're so close and dear, we never knew each other or something else.\n",
      "But nothing ever got closer, let alone this kiss between us had changed all of our ways.\n",
      "All around, every second they've looked back at you like crazy dreams from inside of me.\n",
      "It\n",
      "\n",
      "================================================================================\n",
      "GENRE: Heavy Metal\n",
      "================================================================================\n",
      "\n",
      "--------------------------------------------------------------------------------\n",
      "BASELINE\n",
      "--------------------------------------------------------------------------------\n",
      "1 - 2 - 3 - 4 - 5 - 6 - 7 - 8 - 9 - 10 - 11 - 12 - 13 - 14 - 15 - 16 - 17 - 18 - 19 - 20 - 21 - 22 - 23 - 24 - 25 - 26 - 27 - 28 - 29 - 30 - 31 - 32 - 33 - 34 - 35 - 36 - 37 - 38 - 39 - 40 - 41 - 42 - 43 - 44 - 45 - 46 | 48 | 49 | 50 | 51 | 52 | 53 | 54 | 55 | 56 | 57 | 58 | 59 | 60 | 61 | 62 | 63 | 64 | 65 | 66 | 67 ] ]\n",
      "Tomb Raider (4.5) was released on August 2017 from the original Tomb Raider, but in an update to a newer version of The Legend of Zelda series it has been updated with new graph\n",
      "\n",
      "--------------------------------------------------------------------------------\n",
      "FINE-TUNED\n",
      "--------------------------------------------------------------------------------\n",
      "[Kissing & Lying]\n",
      "What I have done is so wrong! You must not let me lie. But if you can’t bear, then it hurts too bad to go ahead alone! And no one should see that coming along and tell a story for everyone who's ever loved her! (Don't touch your heart!)\n",
      "I've heard these words before in the first place but now they don´e seem true anymore; there was never anyone out of line on this song just about anything else. So take my time, please do what you will be doing with me tonight…and make sure we a\n",
      "\n",
      "================================================================================\n",
      "GENRE: Indie\n",
      "================================================================================\n",
      "\n",
      "--------------------------------------------------------------------------------\n",
      "BASELINE\n",
      "--------------------------------------------------------------------------------\n",
      "It was a big deal. I remember looking at my friend's voice saying, 'The way that the game worked would be better.' But this is something new to me now because it has gotten so much more mainstream attention and people will go for those things as well -- like listening to you or being around your friends while reading about other games online (and having them in their office). My sister-inlaw from New York City also took part in some of these festivals on Saturday morning with her husband Eric wh\n",
      "\n",
      "--------------------------------------------------------------------------------\n",
      "FINE-TUNED\n",
      "--------------------------------------------------------------------------------\n",
      "\"Don't stop me, don't let your voice hurt\"\n",
      "I know my story's told in every part of the world\n",
      "That I'm not alone! It ain't true and never will be. This is a lie to tell all you need to hear... Don't fall for it again (no one)\n",
      "A life without words won't lead you down here by yourself or through myself\n",
      "If everything just isn´t right when we speak\n",
      "But if nothing ever happens but i am coming back from where you left off with this sweet love\n"
     ]
    }
   ],
   "source": [
    "compare_baseline_vs_finetuned(baseline_model, model, tokenizer, device)"
   ]
  },
  {
   "cell_type": "code",
   "execution_count": null,
   "id": "9af07416",
   "metadata": {},
   "outputs": [],
   "source": []
  }
 ],
 "metadata": {
  "kernelspec": {
   "display_name": "dml-project",
   "language": "python",
   "name": "python3"
  },
  "language_info": {
   "codemirror_mode": {
    "name": "ipython",
    "version": 3
   },
   "file_extension": ".py",
   "mimetype": "text/x-python",
   "name": "python",
   "nbconvert_exporter": "python",
   "pygments_lexer": "ipython3",
   "version": "3.10.19"
  }
 },
 "nbformat": 4,
 "nbformat_minor": 5
}
