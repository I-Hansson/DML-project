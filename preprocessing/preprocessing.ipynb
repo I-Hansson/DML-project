{
 "cells": [
  {
   "cell_type": "markdown",
   "id": "ea361be6",
   "metadata": {},
   "source": [
    "### Preprocessing"
   ]
  },
  {
   "cell_type": "code",
   "execution_count": 1,
   "id": "fa2b2bcd",
   "metadata": {},
   "outputs": [],
   "source": [
    "import os\n",
    "from pathlib import Path\n",
    "import pandas as pd"
   ]
  },
  {
   "cell_type": "code",
   "execution_count": 2,
   "id": "3ac76b39",
   "metadata": {},
   "outputs": [
    {
     "name": "stdout",
     "output_type": "stream",
     "text": [
      "Loading artist and lyrics data into memory...\n",
      "Done!\n"
     ]
    }
   ],
   "source": [
    "# Read in the data\n",
    "\n",
    "data_path = Path(os.getcwd()).parent / 'data'\n",
    "artist_file = 'artists-data.csv'\n",
    "lyrics_file = 'lyrics-data.csv'\n",
    "print('Loading artist and lyrics data into memory...')\n",
    "artist_df = pd.read_csv(f'{data_path}/{artist_file}')\n",
    "lyrics_df = pd.read_csv(f'{data_path}/{lyrics_file}')\n",
    "print('Done!')"
   ]
  },
  {
   "cell_type": "markdown",
   "id": "a3ca9d3d",
   "metadata": {},
   "source": [
    "### Artists"
   ]
  },
  {
   "cell_type": "code",
   "execution_count": 3,
   "id": "da2a75a9",
   "metadata": {},
   "outputs": [
    {
     "name": "stdout",
     "output_type": "stream",
     "text": [
      "Shape: (4168, 5)\n",
      "Rows: 4168, Columns: 5\n"
     ]
    },
    {
     "data": {
      "text/plain": [
       "Artist         object\n",
       "Genres         object\n",
       "Songs         float64\n",
       "Popularity    float64\n",
       "Link           object\n",
       "dtype: object"
      ]
     },
     "metadata": {},
     "output_type": "display_data"
    },
    {
     "data": {
      "text/html": [
       "<div>\n",
       "<style scoped>\n",
       "    .dataframe tbody tr th:only-of-type {\n",
       "        vertical-align: middle;\n",
       "    }\n",
       "\n",
       "    .dataframe tbody tr th {\n",
       "        vertical-align: top;\n",
       "    }\n",
       "\n",
       "    .dataframe thead th {\n",
       "        text-align: right;\n",
       "    }\n",
       "</style>\n",
       "<table border=\"1\" class=\"dataframe\">\n",
       "  <thead>\n",
       "    <tr style=\"text-align: right;\">\n",
       "      <th></th>\n",
       "      <th>Artist</th>\n",
       "      <th>Genres</th>\n",
       "      <th>Songs</th>\n",
       "      <th>Popularity</th>\n",
       "      <th>Link</th>\n",
       "    </tr>\n",
       "  </thead>\n",
       "  <tbody>\n",
       "    <tr>\n",
       "      <th>0</th>\n",
       "      <td>Ivete Sangalo</td>\n",
       "      <td>Pop; Axé; Romântico</td>\n",
       "      <td>313.0</td>\n",
       "      <td>4.4</td>\n",
       "      <td>/ivete-sangalo/</td>\n",
       "    </tr>\n",
       "  </tbody>\n",
       "</table>\n",
       "</div>"
      ],
      "text/plain": [
       "          Artist               Genres  Songs  Popularity             Link\n",
       "0  Ivete Sangalo  Pop; Axé; Romântico  313.0         4.4  /ivete-sangalo/"
      ]
     },
     "metadata": {},
     "output_type": "display_data"
    },
    {
     "data": {
      "text/html": [
       "<div>\n",
       "<style scoped>\n",
       "    .dataframe tbody tr th:only-of-type {\n",
       "        vertical-align: middle;\n",
       "    }\n",
       "\n",
       "    .dataframe tbody tr th {\n",
       "        vertical-align: top;\n",
       "    }\n",
       "\n",
       "    .dataframe thead th {\n",
       "        text-align: right;\n",
       "    }\n",
       "</style>\n",
       "<table border=\"1\" class=\"dataframe\">\n",
       "  <thead>\n",
       "    <tr style=\"text-align: right;\">\n",
       "      <th></th>\n",
       "      <th>Songs</th>\n",
       "      <th>Popularity</th>\n",
       "    </tr>\n",
       "  </thead>\n",
       "  <tbody>\n",
       "    <tr>\n",
       "      <th>count</th>\n",
       "      <td>4167.000000</td>\n",
       "      <td>4166.000000</td>\n",
       "    </tr>\n",
       "    <tr>\n",
       "      <th>mean</th>\n",
       "      <td>91.021358</td>\n",
       "      <td>1.831325</td>\n",
       "    </tr>\n",
       "    <tr>\n",
       "      <th>std</th>\n",
       "      <td>96.655819</td>\n",
       "      <td>8.036739</td>\n",
       "    </tr>\n",
       "    <tr>\n",
       "      <th>min</th>\n",
       "      <td>0.000000</td>\n",
       "      <td>0.000000</td>\n",
       "    </tr>\n",
       "    <tr>\n",
       "      <th>25%</th>\n",
       "      <td>26.000000</td>\n",
       "      <td>0.000000</td>\n",
       "    </tr>\n",
       "    <tr>\n",
       "      <th>50%</th>\n",
       "      <td>64.000000</td>\n",
       "      <td>0.000000</td>\n",
       "    </tr>\n",
       "    <tr>\n",
       "      <th>75%</th>\n",
       "      <td>123.000000</td>\n",
       "      <td>1.000000</td>\n",
       "    </tr>\n",
       "    <tr>\n",
       "      <th>max</th>\n",
       "      <td>1029.000000</td>\n",
       "      <td>205.500000</td>\n",
       "    </tr>\n",
       "  </tbody>\n",
       "</table>\n",
       "</div>"
      ],
      "text/plain": [
       "             Songs   Popularity\n",
       "count  4167.000000  4166.000000\n",
       "mean     91.021358     1.831325\n",
       "std      96.655819     8.036739\n",
       "min       0.000000     0.000000\n",
       "25%      26.000000     0.000000\n",
       "50%      64.000000     0.000000\n",
       "75%     123.000000     1.000000\n",
       "max    1029.000000   205.500000"
      ]
     },
     "metadata": {},
     "output_type": "display_data"
    },
    {
     "name": "stdout",
     "output_type": "stream",
     "text": [
      "null?\n",
      "Artist        1\n",
      "Genres        5\n",
      "Songs         1\n",
      "Popularity    2\n",
      "Link          1\n",
      "dtype: int64\n"
     ]
    }
   ],
   "source": [
    "print(f\"Shape: {artist_df.shape}\")\n",
    "print(f\"Rows: {artist_df.shape[0]}, Columns: {artist_df.shape[1]}\")\n",
    "display(artist_df.dtypes)\n",
    "display(artist_df.head(1))\n",
    "display(artist_df.describe())\n",
    "print(\"null?\")\n",
    "print(artist_df.isnull().sum())"
   ]
  },
  {
   "cell_type": "markdown",
   "id": "dc6949a4",
   "metadata": {},
   "source": [
    "Lyrics"
   ]
  },
  {
   "cell_type": "code",
   "execution_count": 4,
   "id": "7c3e01af",
   "metadata": {},
   "outputs": [
    {
     "name": "stdout",
     "output_type": "stream",
     "text": [
      "Shape: (379931, 5)\n",
      "Rows: 379931, Columns: 5\n"
     ]
    },
    {
     "data": {
      "text/plain": [
       "ALink       object\n",
       "SName       object\n",
       "SLink       object\n",
       "Lyric       object\n",
       "language    object\n",
       "dtype: object"
      ]
     },
     "metadata": {},
     "output_type": "display_data"
    },
    {
     "data": {
      "text/html": [
       "<div>\n",
       "<style scoped>\n",
       "    .dataframe tbody tr th:only-of-type {\n",
       "        vertical-align: middle;\n",
       "    }\n",
       "\n",
       "    .dataframe tbody tr th {\n",
       "        vertical-align: top;\n",
       "    }\n",
       "\n",
       "    .dataframe thead th {\n",
       "        text-align: right;\n",
       "    }\n",
       "</style>\n",
       "<table border=\"1\" class=\"dataframe\">\n",
       "  <thead>\n",
       "    <tr style=\"text-align: right;\">\n",
       "      <th></th>\n",
       "      <th>ALink</th>\n",
       "      <th>SName</th>\n",
       "      <th>SLink</th>\n",
       "      <th>Lyric</th>\n",
       "      <th>language</th>\n",
       "    </tr>\n",
       "  </thead>\n",
       "  <tbody>\n",
       "    <tr>\n",
       "      <th>0</th>\n",
       "      <td>/ivete-sangalo/</td>\n",
       "      <td>Arerê</td>\n",
       "      <td>/ivete-sangalo/arere.html</td>\n",
       "      <td>Tudo o que eu quero nessa vida,\\nToda vida, é\\...</td>\n",
       "      <td>pt</td>\n",
       "    </tr>\n",
       "  </tbody>\n",
       "</table>\n",
       "</div>"
      ],
      "text/plain": [
       "             ALink  SName                      SLink  \\\n",
       "0  /ivete-sangalo/  Arerê  /ivete-sangalo/arere.html   \n",
       "\n",
       "                                               Lyric language  \n",
       "0  Tudo o que eu quero nessa vida,\\nToda vida, é\\...       pt  "
      ]
     },
     "metadata": {},
     "output_type": "display_data"
    },
    {
     "data": {
      "text/html": [
       "<div>\n",
       "<style scoped>\n",
       "    .dataframe tbody tr th:only-of-type {\n",
       "        vertical-align: middle;\n",
       "    }\n",
       "\n",
       "    .dataframe tbody tr th {\n",
       "        vertical-align: top;\n",
       "    }\n",
       "\n",
       "    .dataframe thead th {\n",
       "        text-align: right;\n",
       "    }\n",
       "</style>\n",
       "<table border=\"1\" class=\"dataframe\">\n",
       "  <thead>\n",
       "    <tr style=\"text-align: right;\">\n",
       "      <th></th>\n",
       "      <th>ALink</th>\n",
       "      <th>SName</th>\n",
       "      <th>SLink</th>\n",
       "      <th>Lyric</th>\n",
       "      <th>language</th>\n",
       "    </tr>\n",
       "  </thead>\n",
       "  <tbody>\n",
       "    <tr>\n",
       "      <th>count</th>\n",
       "      <td>379930</td>\n",
       "      <td>379928</td>\n",
       "      <td>379930</td>\n",
       "      <td>379854</td>\n",
       "      <td>365296</td>\n",
       "    </tr>\n",
       "    <tr>\n",
       "      <th>unique</th>\n",
       "      <td>4238</td>\n",
       "      <td>267258</td>\n",
       "      <td>379892</td>\n",
       "      <td>371181</td>\n",
       "      <td>52</td>\n",
       "    </tr>\n",
       "    <tr>\n",
       "      <th>top</th>\n",
       "      <td>/anjos-anonimos/</td>\n",
       "      <td>Intro</td>\n",
       "      <td>/roy-orbison/i-get-so-sentimental.html</td>\n",
       "      <td>Instrumental</td>\n",
       "      <td>en</td>\n",
       "    </tr>\n",
       "    <tr>\n",
       "      <th>freq</th>\n",
       "      <td>1029</td>\n",
       "      <td>116</td>\n",
       "      <td>2</td>\n",
       "      <td>2087</td>\n",
       "      <td>191814</td>\n",
       "    </tr>\n",
       "  </tbody>\n",
       "</table>\n",
       "</div>"
      ],
      "text/plain": [
       "                   ALink   SName                                   SLink  \\\n",
       "count             379930  379928                                  379930   \n",
       "unique              4238  267258                                  379892   \n",
       "top     /anjos-anonimos/   Intro  /roy-orbison/i-get-so-sentimental.html   \n",
       "freq                1029     116                                       2   \n",
       "\n",
       "               Lyric language  \n",
       "count         379854   365296  \n",
       "unique        371181       52  \n",
       "top     Instrumental       en  \n",
       "freq            2087   191814  "
      ]
     },
     "metadata": {},
     "output_type": "display_data"
    },
    {
     "name": "stdout",
     "output_type": "stream",
     "text": [
      "null?\n",
      "ALink           1\n",
      "SName           3\n",
      "SLink           1\n",
      "Lyric          77\n",
      "language    14635\n",
      "dtype: int64\n"
     ]
    }
   ],
   "source": [
    "print(f\"Shape: {lyrics_df.shape}\")\n",
    "print(f\"Rows: {lyrics_df.shape[0]}, Columns: {lyrics_df.shape[1]}\")\n",
    "display(lyrics_df.dtypes)\n",
    "display(lyrics_df.head(1))\n",
    "display(lyrics_df.describe())\n",
    "print(\"null?\")\n",
    "print(lyrics_df.isnull().sum())"
   ]
  },
  {
   "cell_type": "code",
   "execution_count": 5,
   "id": "582ea6a0",
   "metadata": {},
   "outputs": [
    {
     "name": "stdout",
     "output_type": "stream",
     "text": [
      "Artist\n",
      "Artist: 4167 unique values\n",
      "Genres: 1750 unique values\n",
      "Link: 4167 unique values\n",
      "Lyrics\n",
      "ALink: 4238 unique values\n",
      "SName: 267258 unique values\n",
      "SLink: 379892 unique values\n",
      "Lyric: 371181 unique values\n",
      "language: 52 unique values\n"
     ]
    }
   ],
   "source": [
    "print(\"Artist\")\n",
    "for col in artist_df.select_dtypes(include='object').columns:\n",
    "    print(f\"{col}: {artist_df[col].nunique()} unique values\")\n",
    "\n",
    "print(\"Lyrics\")\n",
    "for col in lyrics_df.select_dtypes(include='object').columns:\n",
    "    print(f\"{col}: {lyrics_df[col].nunique()} unique values\")"
   ]
  },
  {
   "cell_type": "code",
   "execution_count": 6,
   "id": "49054df0",
   "metadata": {},
   "outputs": [
    {
     "name": "stdout",
     "output_type": "stream",
     "text": [
      "Original count: 379931\n",
      "English count: 191814\n"
     ]
    }
   ],
   "source": [
    "# Drop non-english songs\n",
    "print(\"Original count:\", len(lyrics_df))\n",
    "lyrics_df_en = lyrics_df[lyrics_df['language'] == 'en'].copy()\n",
    "print(\"English count:\", len(lyrics_df_en))\n",
    "assert len(lyrics_df_en) < len(lyrics_df)"
   ]
  },
  {
   "cell_type": "code",
   "execution_count": 7,
   "id": "30e1a21e",
   "metadata": {},
   "outputs": [
    {
     "data": {
      "text/html": [
       "<div>\n",
       "<style scoped>\n",
       "    .dataframe tbody tr th:only-of-type {\n",
       "        vertical-align: middle;\n",
       "    }\n",
       "\n",
       "    .dataframe tbody tr th {\n",
       "        vertical-align: top;\n",
       "    }\n",
       "\n",
       "    .dataframe thead th {\n",
       "        text-align: right;\n",
       "    }\n",
       "</style>\n",
       "<table border=\"1\" class=\"dataframe\">\n",
       "  <thead>\n",
       "    <tr style=\"text-align: right;\">\n",
       "      <th></th>\n",
       "      <th>ALink</th>\n",
       "      <th>SName</th>\n",
       "      <th>SLink</th>\n",
       "      <th>Lyric</th>\n",
       "      <th>language</th>\n",
       "      <th>ALink_clean</th>\n",
       "      <th>Link_clean</th>\n",
       "      <th>Artist</th>\n",
       "      <th>Genres</th>\n",
       "    </tr>\n",
       "  </thead>\n",
       "  <tbody>\n",
       "    <tr>\n",
       "      <th>0</th>\n",
       "      <td>/ivete-sangalo/</td>\n",
       "      <td>Careless Whisper</td>\n",
       "      <td>/ivete-sangalo/careless-whisper.html</td>\n",
       "      <td>I feel so unsure\\nAs I take your hand and lead...</td>\n",
       "      <td>en</td>\n",
       "      <td>ivete-sangalo</td>\n",
       "      <td>ivete-sangalo</td>\n",
       "      <td>Ivete Sangalo</td>\n",
       "      <td>Pop; Axé; Romântico</td>\n",
       "    </tr>\n",
       "  </tbody>\n",
       "</table>\n",
       "</div>"
      ],
      "text/plain": [
       "             ALink             SName                                 SLink  \\\n",
       "0  /ivete-sangalo/  Careless Whisper  /ivete-sangalo/careless-whisper.html   \n",
       "\n",
       "                                               Lyric language    ALink_clean  \\\n",
       "0  I feel so unsure\\nAs I take your hand and lead...       en  ivete-sangalo   \n",
       "\n",
       "      Link_clean         Artist               Genres  \n",
       "0  ivete-sangalo  Ivete Sangalo  Pop; Axé; Romântico  "
      ]
     },
     "execution_count": 7,
     "metadata": {},
     "output_type": "execute_result"
    }
   ],
   "source": [
    "# fix for merge\n",
    "lyrics_df_en['ALink_clean'] = lyrics_df_en['ALink'].str.strip('/')\n",
    "artist_df['Link_clean'] = artist_df['Link'].str.strip('/')\n",
    "\n",
    "merged_df = lyrics_df_en.merge(\n",
    "    artist_df[['Link_clean', 'Artist', 'Genres']], \n",
    "    left_on='ALink_clean', \n",
    "    right_on='Link_clean', \n",
    "    how='inner'\n",
    ")\n",
    "merged_df.head(1)"
   ]
  },
  {
   "cell_type": "code",
   "execution_count": 8,
   "id": "ef7dcd77",
   "metadata": {},
   "outputs": [
    {
     "name": "stdout",
     "output_type": "stream",
     "text": [
      "Top 10 genres by song count:\n",
      "PrimaryGenre\n",
      "Rock                25177\n",
      "Pop                 13759\n",
      "Heavy Metal         13496\n",
      "Indie               12998\n",
      "Rap                  9589\n",
      "Pop/Rock             9019\n",
      "Hip Hop              8412\n",
      "Country              7377\n",
      "Rock Alternativo     5555\n",
      "R&B                  5309\n",
      "Name: count, dtype: int64\n",
      "count missing lyric: 0\n"
     ]
    }
   ],
   "source": [
    "merged_df['PrimaryGenre'] = (\n",
    "    merged_df['Genres']\n",
    "    .fillna('')   \n",
    "    .str.split(';').str[0]\n",
    "    .str.strip()\n",
    "    .replace('', None)\n",
    ")\n",
    "genre_counts = merged_df['PrimaryGenre'].value_counts()\n",
    "print(\"Top 10 genres by song count:\")\n",
    "print(genre_counts.head(10))\n",
    "num_null_lyrics = merged_df['Lyric'].isna().sum()\n",
    "print(f\"count missing lyric: {num_null_lyrics}\")"
   ]
  },
  {
   "cell_type": "code",
   "execution_count": 9,
   "id": "b4e04b58",
   "metadata": {},
   "outputs": [
    {
     "data": {
      "text/html": [
       "<div>\n",
       "<style scoped>\n",
       "    .dataframe tbody tr th:only-of-type {\n",
       "        vertical-align: middle;\n",
       "    }\n",
       "\n",
       "    .dataframe tbody tr th {\n",
       "        vertical-align: top;\n",
       "    }\n",
       "\n",
       "    .dataframe thead th {\n",
       "        text-align: right;\n",
       "    }\n",
       "</style>\n",
       "<table border=\"1\" class=\"dataframe\">\n",
       "  <thead>\n",
       "    <tr style=\"text-align: right;\">\n",
       "      <th></th>\n",
       "      <th>song_name</th>\n",
       "      <th>genre</th>\n",
       "      <th>lyrics</th>\n",
       "    </tr>\n",
       "  </thead>\n",
       "  <tbody>\n",
       "    <tr>\n",
       "      <th>0</th>\n",
       "      <td>Careless Whisper</td>\n",
       "      <td>Pop</td>\n",
       "      <td>I feel so unsure\\nAs I take your hand and lead...</td>\n",
       "    </tr>\n",
       "  </tbody>\n",
       "</table>\n",
       "</div>"
      ],
      "text/plain": [
       "          song_name genre                                             lyrics\n",
       "0  Careless Whisper   Pop  I feel so unsure\\nAs I take your hand and lead..."
      ]
     },
     "execution_count": 9,
     "metadata": {},
     "output_type": "execute_result"
    }
   ],
   "source": [
    "genres = ['Pop', 'Heavy Metal', 'Indie']\n",
    "\n",
    "genre_lyric_df = merged_df[merged_df['PrimaryGenre'].isin(genres)].copy()\n",
    "genre_lyric_df = genre_lyric_df[['SName', 'PrimaryGenre', 'Lyric']].copy()\n",
    "genre_lyric_df.columns = ['song_name', 'genre', 'lyrics']\n",
    "\n",
    "genre_lyric_df = genre_lyric_df[genre_lyric_df['lyrics'].notna()].copy()\n",
    "genre_lyric_df.head(1)"
   ]
  },
  {
   "cell_type": "code",
   "execution_count": 10,
   "id": "a3c1a74d",
   "metadata": {},
   "outputs": [],
   "source": [
    "genre_lyric_df.to_csv(f'{data_path}/genre_lyric-data.csv', index=False)"
   ]
  }
 ],
 "metadata": {
  "kernelspec": {
   "display_name": "dml-project",
   "language": "python",
   "name": "python3"
  },
  "language_info": {
   "codemirror_mode": {
    "name": "ipython",
    "version": 3
   },
   "file_extension": ".py",
   "mimetype": "text/x-python",
   "name": "python",
   "nbconvert_exporter": "python",
   "pygments_lexer": "ipython3",
   "version": "3.10.19"
  }
 },
 "nbformat": 4,
 "nbformat_minor": 5
}
