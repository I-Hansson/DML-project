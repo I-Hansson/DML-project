{
 "cells": [
  {
   "cell_type": "markdown",
   "id": "bdaf8877",
   "metadata": {},
   "source": []
  },
  {
   "cell_type": "code",
   "execution_count": 23,
   "id": "5b032b7a",
   "metadata": {},
   "outputs": [
    {
     "name": "stdout",
     "output_type": "stream",
     "text": [
      "                                     SName  \\\n",
      "16808                             Song 4 u   \n",
      "16809            You Really Gotta Go There   \n",
      "17440                               [Oops]   \n",
      "17441                                   Be   \n",
      "17442   I'm closing my eyes (Feat. shiloh)   \n",
      "...                                    ...   \n",
      "190614                      Arabian Nights   \n",
      "190615                      Friend Like Me   \n",
      "190616                      One Jump Ahead   \n",
      "190617                          Prince Ali   \n",
      "190618                          Speechless   \n",
      "\n",
      "                                                    Lyric Artist Genres  \n",
      "16808   I look at you 'cause you looked at me\\nas I've...    NaN    NaN  \n",
      "16809   If there's a place\\nwhere you could keep being...    NaN    NaN  \n",
      "17440   All right I'll get straight to the point: I fo...    NaN    NaN  \n",
      "17441   There's something rotten inside me\\nYou told m...    NaN    NaN  \n",
      "17442   I know you so well, so well\\nI mean, I can do ...    NaN    NaN  \n",
      "...                                                   ...    ...    ...  \n",
      "190614  Oh, imagine a land, it's a faraway place\\nWher...    NaN    NaN  \n",
      "190615  Well Ali Baba had them forty thieves\\nSchehera...    NaN    NaN  \n",
      "190616  Gotta keep\\nOne jump ahead of the breadline\\nO...    NaN    NaN  \n",
      "190617  Make way for Prince Ali\\nSay hey! It's Prince ...    NaN    NaN  \n",
      "190618  Here comes a wave\\nMeant to wash me away\\nA ti...    NaN    NaN  \n",
      "\n",
      "[438 rows x 4 columns]\n"
     ]
    }
   ],
   "source": [
    "import  pandas as pd\n",
    "import numpy as np\n",
    "import matplotlib.pyplot as plt \n",
    "\n",
    "\n",
    "data_artists = pd.read_csv('../data/artists-data.csv')\n",
    "data_lyrics = pd.read_csv('../data/lyrics-data.csv')\n",
    "\n",
    "data_lyrics_filtered = data_lyrics[data_lyrics['language'] == 'en']\n",
    "data_lyrics_filtered = data_lyrics_filtered.drop(columns=['SLink'])\n",
    "data_artists_filtered = data_artists.drop([\"Popularity\",\"Songs\"], axis=1)\n",
    "\n",
    "merged_data = pd.merge(data_lyrics_filtered, data_artists_filtered, how=\"left\", left_on=\"ALink\", right_on=\"Link\")\n",
    "merged_data = merged_data.drop(columns=['Link', 'ALink', 'language'])\n",
    "\n",
    "incomplete_rows = merged_data[merged_data.isna().any(axis=1)]\n",
    "print(incomplete_rows)\n",
    "\n",
    "\n",
    "\n",
    "\n",
    "\n",
    "\n",
    "\n"
   ]
  },
  {
   "cell_type": "code",
   "execution_count": null,
   "id": "5b33bd9b",
   "metadata": {},
   "outputs": [],
   "source": []
  }
 ],
 "metadata": {
  "kernelspec": {
   "display_name": "dml-project (3.10.19)",
   "language": "python",
   "name": "python3"
  },
  "language_info": {
   "codemirror_mode": {
    "name": "ipython",
    "version": 3
   },
   "file_extension": ".py",
   "mimetype": "text/x-python",
   "name": "python",
   "nbconvert_exporter": "python",
   "pygments_lexer": "ipython3",
   "version": "3.10.19"
  }
 },
 "nbformat": 4,
 "nbformat_minor": 5
}
